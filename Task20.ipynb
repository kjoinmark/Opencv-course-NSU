{
  "nbformat": 4,
  "nbformat_minor": 0,
  "metadata": {
    "colab": {
      "name": "Task20.ipynb",
      "provenance": [],
      "collapsed_sections": [],
      "authorship_tag": "ABX9TyOJXox5VmeTmtfwqTqcKq0F",
      "include_colab_link": true
    },
    "kernelspec": {
      "display_name": "Python 3",
      "name": "python3"
    }
  },
  "cells": [
    {
      "cell_type": "markdown",
      "metadata": {
        "id": "view-in-github",
        "colab_type": "text"
      },
      "source": [
        "<a href=\"https://colab.research.google.com/github/kjoinmark/Opencv-course-NSU/blob/main/Task20.ipynb\" target=\"_parent\"><img src=\"https://colab.research.google.com/assets/colab-badge.svg\" alt=\"Open In Colab\"/></a>"
      ]
    },
    {
      "cell_type": "code",
      "metadata": {
        "id": "VVIu6JsVpoHY"
      },
      "source": [
        "import numpy as np\n",
        "from sklearn import metrics\n",
        "import matplotlib.pyplot as plt\n",
        "import time\n",
        "import cv2 as cv"
      ],
      "execution_count": null,
      "outputs": []
    },
    {
      "cell_type": "code",
      "metadata": {
        "id": "6o1FnG27akbW"
      },
      "source": [
        "from sklearn.datasets import fetch_openml\n",
        "from sklearn.model_selection import train_test_split"
      ],
      "execution_count": null,
      "outputs": []
    },
    {
      "cell_type": "code",
      "metadata": {
        "id": "U5A9NBRiasre"
      },
      "source": [
        "from sklearn.neighbors import KNeighborsClassifier"
      ],
      "execution_count": null,
      "outputs": []
    },
    {
      "cell_type": "code",
      "metadata": {
        "id": "MuXoQ5Sg-PhY"
      },
      "source": [
        "\"\"\"\"\"\n",
        "Реализовать алгоритм MNIST распознавания рукописных цифр, \n",
        "продемонстрировать несколько ошибочных примеров\n",
        "\"\"\"\"\"\n",
        "\n",
        "mnist = fetch_openml('mnist_784')\n",
        "\n",
        "N = 20000"
      ],
      "execution_count": null,
      "outputs": []
    },
    {
      "cell_type": "code",
      "metadata": {
        "id": "Assd6Hjiot1h"
      },
      "source": [
        "X_, X, Y_, Y = train_test_split(mnist.data, mnist.target, test_size=N, random_state=10)\n",
        "\n",
        "X_train, X_test, Y_train, Y_test = train_test_split(X, Y, test_size=0.3, random_state=2)"
      ],
      "execution_count": null,
      "outputs": []
    },
    {
      "cell_type": "code",
      "metadata": {
        "colab": {
          "base_uri": "https://localhost:8080/"
        },
        "id": "cm_OLIUd_aJj",
        "outputId": "2e97d504-568e-49fe-94ff-e0e937ffbfab"
      },
      "source": [
        "start_time = time.time()\n",
        "clf_knn = KNeighborsClassifier(n_neighbors=3, weights='distance', n_jobs = -1)\n",
        "clf_knn.fit(X_train, Y_train)\n",
        "print(\"--- %s seconds ---\" % (time.time() - start_time))"
      ],
      "execution_count": null,
      "outputs": [
        {
          "output_type": "stream",
          "text": [
            "--- 1.62770414352417 seconds ---\n"
          ],
          "name": "stdout"
        }
      ]
    },
    {
      "cell_type": "code",
      "metadata": {
        "colab": {
          "base_uri": "https://localhost:8080/"
        },
        "id": "BLK-y_YiosvN",
        "outputId": "444a801a-77a0-453c-b758-a36d6700ba4a"
      },
      "source": [
        "print(clf_knn.score(X_test, Y_test))"
      ],
      "execution_count": null,
      "outputs": [
        {
          "output_type": "stream",
          "text": [
            "0.9585\n"
          ],
          "name": "stdout"
        }
      ]
    },
    {
      "cell_type": "code",
      "metadata": {
        "id": "Bi4XbTrPo_nh"
      },
      "source": [
        "for i  in range(100):\n",
        "  ans = clf_knn.predict(X_test[i:i+1])\n",
        "  if ans!= Y_test[i]:\n",
        "    img = np.reshape(X_test[i],(-1,28))\n",
        "    plt.imshow(img)\n",
        "    print(ans,Y_test[i])\n",
        "    plt.show()\n"
      ],
      "execution_count": null,
      "outputs": []
    },
    {
      "cell_type": "code",
      "metadata": {
        "colab": {
          "base_uri": "https://localhost:8080/",
          "height": 283
        },
        "id": "fKBltWq0EY-0",
        "outputId": "55436fe1-8253-4e29-aa6e-32829de36f06"
      },
      "source": [
        "ans = clf_knn.predict(X_test[120:120+1])\n",
        "img = np.reshape(X_test[120],(-1,28))\n",
        "plt.imshow(img)\n",
        "print(ans)"
      ],
      "execution_count": null,
      "outputs": [
        {
          "output_type": "stream",
          "text": [
            "['7']\n"
          ],
          "name": "stdout"
        },
        {
          "output_type": "display_data",
          "data": {
            "image/png": "[encoded data removed]",
            "text/plain": [
              "<Figure size 432x288 with 1 Axes>"
            ]
          },
          "metadata": {
            "tags": [],
            "needs_background": "light"
          }
        }
      ]
    }
  ]
}